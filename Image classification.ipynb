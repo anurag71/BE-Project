{
 "cells": [
  {
   "cell_type": "code",
   "execution_count": 1,
   "metadata": {},
   "outputs": [
    {
     "name": "stderr",
     "output_type": "stream",
     "text": [
      "Using TensorFlow backend.\n"
     ]
    }
   ],
   "source": [
    "import numpy as np\n",
    "import pandas as pd\n",
    "import PIL\n",
    "import keras\n",
    "import itertools\n",
    "from PIL import Image\n",
    "# import ibm_boto3\n",
    "# from botocore.client import Config\n",
    "\n",
    "\n",
    "from sklearn.utils import shuffle\n",
    "from sklearn.model_selection import train_test_split\n",
    "from sklearn import preprocessing\n",
    "from skimage import feature, data, io, measure\n",
    "from sklearn.metrics import confusion_matrix\n",
    "\n",
    "import matplotlib.pyplot as plt\n",
    "from matplotlib import ticker\n",
    "import seaborn as sns\n",
    "%matplotlib inline \n",
    "\n",
    "from keras import backend as K\n",
    "from keras.models import Sequential\n",
    "from keras.layers import Input, Dropout, Flatten, Conv2D, MaxPooling2D, Dense, Activation\n",
    "from keras.optimizers import RMSprop\n",
    "from keras.callbacks import ModelCheckpoint, Callback, EarlyStopping\n",
    "from keras.optimizers import Adam\n",
    "from keras.utils import np_utils\n",
    "from keras.models import Sequential\n",
    "from keras.layers import Input, Dropout, Flatten, Conv2D, MaxPooling2D, Dense, Activation\n",
    "from keras.optimizers import RMSprop\n",
    "from keras.callbacks import ModelCheckpoint, Callback, EarlyStopping\n",
    "from keras.utils import np_utils\n",
    "from keras.preprocessing.image import ImageDataGenerator, array_to_img, img_to_array, load_img\n",
    "\n",
    "import os\n",
    "# os.environ[\"CUDA_VISIBLE_DEVICES\"]=\"-1\"    \n",
    "import sys\n",
    "import zipfile\n",
    "import types"
   ]
  },
  {
   "cell_type": "code",
   "execution_count": null,
   "metadata": {},
   "outputs": [],
   "source": []
  },
  {
   "cell_type": "code",
   "execution_count": 2,
   "metadata": {},
   "outputs": [],
   "source": [
    "zipdata = zipfile.ZipFile(\"Data.zip\")"
   ]
  },
  {
   "cell_type": "code",
   "execution_count": 3,
   "metadata": {},
   "outputs": [
    {
     "name": "stdout",
     "output_type": "stream",
     "text": [
      "['Data/', 'Data/debug.log', 'Data/Test_Data/', 'Data/Test_Data/Aadhar/', 'Data/Test_Data/Aadhar/00000003.jpg', 'Data/Test_Data/Insurance/', 'Data/Test_Data/Insurance/00000017.jpg', 'Data/Test_Data/Receipts/', 'Data/Test_Data/Receipts/00000032.jpg', 'Data/Train_Data/', 'Data/Train_Data/Aadhar/', 'Data/Train_Data/Aadhar/00000000.jpg', 'Data/Train_Data/Aadhar/00000001.jpg', 'Data/Train_Data/Aadhar/00000002.jpg', 'Data/Train_Data/Aadhar/00000004.jpg', 'Data/Train_Data/Aadhar/00000005.jpg', 'Data/Train_Data/Aadhar/00000006.jpg', 'Data/Train_Data/Aadhar/00000007.jpg', 'Data/Train_Data/Aadhar/00000008.jpg', 'Data/Train_Data/Aadhar/00000009.jpg', 'Data/Train_Data/Aadhar/00000010.jpg', 'Data/Train_Data/Aadhar/00000011.jpg', 'Data/Train_Data/Aadhar/00000012.jpg', 'Data/Train_Data/Aadhar/00000013.jpg', 'Data/Train_Data/Aadhar/00000014.jpg', 'Data/Train_Data/Aadhar/00000015.jpg', 'Data/Train_Data/Aadhar/00000016.jpg', 'Data/Train_Data/Aadhar/00000017.jpg', 'Data/Train_Data/Aadhar/00000018.jpg', 'Data/Train_Data/Aadhar/00000019.jpg', 'Data/Train_Data/Aadhar/00000020.jpg', 'Data/Train_Data/Aadhar/00000021.jpg', 'Data/Train_Data/Aadhar/00000023.jpg', 'Data/Train_Data/Aadhar/00000024.jpg', 'Data/Train_Data/Aadhar/00000025.jpg', 'Data/Train_Data/Insurance/', 'Data/Train_Data/Insurance/00000000.jpg', 'Data/Train_Data/Insurance/00000001.jpg', 'Data/Train_Data/Insurance/00000006.jpg', 'Data/Train_Data/Insurance/00000007.jpg', 'Data/Train_Data/Insurance/00000008.jpg', 'Data/Train_Data/Insurance/00000010.jpg', 'Data/Train_Data/Insurance/00000011.jpg', 'Data/Train_Data/Insurance/00000012.jpg', 'Data/Train_Data/Insurance/00000016.jpg', 'Data/Train_Data/Insurance/00000019.jpg', 'Data/Train_Data/Insurance/00000020.jpg', 'Data/Train_Data/Insurance/00000024.jpg', 'Data/Train_Data/Insurance/00000027.jpg', 'Data/Train_Data/Insurance/00000186.jpg', 'Data/Train_Data/Insurance/00000187.jpg', 'Data/Train_Data/Insurance/00000188.jpg', 'Data/Train_Data/Insurance/00000189.jpg', 'Data/Train_Data/Insurance/00000190.jpg', 'Data/Train_Data/Insurance/00000191.jpg', 'Data/Train_Data/Insurance/00000192.jpg', 'Data/Train_Data/Insurance/00000193.jpg', 'Data/Train_Data/Insurance/00000194.jpg', 'Data/Train_Data/Insurance/00000195.jpg', 'Data/Train_Data/Insurance/00000196.jpg', 'Data/Train_Data/Receipts/', 'Data/Train_Data/Receipts/00000000.jpg', 'Data/Train_Data/Receipts/00000001.jpg', 'Data/Train_Data/Receipts/00000002.jpg', 'Data/Train_Data/Receipts/00000003.jpg', 'Data/Train_Data/Receipts/00000004.jpg', 'Data/Train_Data/Receipts/00000005.jpg', 'Data/Train_Data/Receipts/00000006.jpg', 'Data/Train_Data/Receipts/00000007.jpg', 'Data/Train_Data/Receipts/00000009.jpg', 'Data/Train_Data/Receipts/00000010.jpg', 'Data/Train_Data/Receipts/00000012.jpg', 'Data/Train_Data/Receipts/00000013.jpg', 'Data/Train_Data/Receipts/00000014.jpg', 'Data/Train_Data/Receipts/00000015.jpg', 'Data/Train_Data/Receipts/00000016.jpg', 'Data/Train_Data/Receipts/00000017.jpg', 'Data/Train_Data/Receipts/00000018.jpg', 'Data/Train_Data/Receipts/00000019.jpg', 'Data/Train_Data/Receipts/00000020.jpg', 'Data/Train_Data/Receipts/00000021.jpg', 'Data/Train_Data/Receipts/00000022.jpg', 'Data/Train_Data/Receipts/00000023.jpg', 'Data/Train_Data/Receipts/00000025.jpg', 'Data/Train_Data/Receipts/00000026.jpg', 'Data/Val_Data/', 'Data/Val_Data/Aadhar/', 'Data/Val_Data/Aadhar/00000035.jpg', 'Data/Val_Data/Insurance/', 'Data/Val_Data/Insurance/00000028.jpg', 'Data/Val_Data/Receipts/', 'Data/Val_Data/Receipts/00000052.jpg']\n"
     ]
    }
   ],
   "source": [
    "paths = zipdata.namelist()\n",
    "print(paths)"
   ]
  },
  {
   "cell_type": "code",
   "execution_count": 4,
   "metadata": {},
   "outputs": [],
   "source": [
    "batch_size_train = 264\n",
    "batch_size_val = 10\n",
    "batch_size_test = 25\n",
    "num_classes= 3\n",
    "intereseted_folder='Aadhar'\n",
    "STANDARD_SIZE=(224,224)"
   ]
  },
  {
   "cell_type": "code",
   "execution_count": 5,
   "metadata": {},
   "outputs": [
    {
     "name": "stdout",
     "output_type": "stream",
     "text": [
      "['Aadhar', 'Insurance', 'Receipts']\n"
     ]
    }
   ],
   "source": [
    "classes_required=[]\n",
    "for path in paths:\n",
    "    zipdata.extract(path)\n",
    "    temp=path.split('/')\n",
    "    if len(temp) > 3:\n",
    "        if temp[2] not in classes_required:\n",
    "            classes_required.append(temp[2])\n",
    "print(classes_required)\n",
    "zipdata.close()"
   ]
  },
  {
   "cell_type": "code",
   "execution_count": 6,
   "metadata": {},
   "outputs": [],
   "source": [
    "datagen=keras.preprocessing.image.ImageDataGenerator(data_format=K.image_data_format())"
   ]
  },
  {
   "cell_type": "code",
   "execution_count": 7,
   "metadata": {},
   "outputs": [
    {
     "name": "stdout",
     "output_type": "stream",
     "text": [
      "Found 72 images belonging to 3 classes.\n"
     ]
    },
    {
     "data": {
      "text/plain": [
       "keras.preprocessing.image.DirectoryIterator"
      ]
     },
     "execution_count": 7,
     "metadata": {},
     "output_type": "execute_result"
    }
   ],
   "source": [
    "train_path = 'Data\\Train_Data'\n",
    "train_batches = ImageDataGenerator().flow_from_directory(train_path, target_size=(224,224), classes=classes_required, batch_size=batch_size_train)\n",
    "type(train_batches)"
   ]
  },
  {
   "cell_type": "code",
   "execution_count": 8,
   "metadata": {},
   "outputs": [
    {
     "name": "stdout",
     "output_type": "stream",
     "text": [
      "Found 3 images belonging to 3 classes.\n"
     ]
    }
   ],
   "source": [
    "val_path = 'Data/Val_Data/'\n",
    "val_batches = ImageDataGenerator().flow_from_directory(val_path, target_size=(224,224), classes=classes_required, batch_size=batch_size_val)"
   ]
  },
  {
   "cell_type": "code",
   "execution_count": 9,
   "metadata": {},
   "outputs": [
    {
     "name": "stdout",
     "output_type": "stream",
     "text": [
      "Found 3 images belonging to 3 classes.\n"
     ]
    }
   ],
   "source": [
    "test_path = 'Data/Test_Data/'\n",
    "test_batches = ImageDataGenerator().flow_from_directory(test_path, target_size=(224,224), classes=classes_required, batch_size=batch_size_test)"
   ]
  },
  {
   "cell_type": "code",
   "execution_count": 10,
   "metadata": {},
   "outputs": [
    {
     "data": {
      "text/plain": [
       "array([[1., 0., 0.],\n",
       "       [0., 0., 1.],\n",
       "       [0., 1., 0.]], dtype=float32)"
      ]
     },
     "execution_count": 10,
     "metadata": {},
     "output_type": "execute_result"
    }
   ],
   "source": [
    "test_imgs, test_labels = next(test_batches)\n",
    "test_labels"
   ]
  },
  {
   "cell_type": "code",
   "execution_count": 11,
   "metadata": {},
   "outputs": [
    {
     "data": {
      "text/plain": [
       "[0, 2, 1]"
      ]
     },
     "execution_count": 11,
     "metadata": {},
     "output_type": "execute_result"
    }
   ],
   "source": [
    "y_test= [ np.where(r==1)[0][0] for r in test_labels ]\n",
    "y_test"
   ]
  },
  {
   "cell_type": "code",
   "execution_count": 12,
   "metadata": {
    "scrolled": false
   },
   "outputs": [
    {
     "name": "stdout",
     "output_type": "stream",
     "text": [
      "Model: \"vgg16\"\n",
      "_________________________________________________________________\n",
      "Layer (type)                 Output Shape              Param #   \n",
      "=================================================================\n",
      "input_1 (InputLayer)         (None, 224, 224, 3)       0         \n",
      "_________________________________________________________________\n",
      "block1_conv1 (Conv2D)        (None, 224, 224, 64)      1792      \n",
      "_________________________________________________________________\n",
      "block1_conv2 (Conv2D)        (None, 224, 224, 64)      36928     \n",
      "_________________________________________________________________\n",
      "block1_pool (MaxPooling2D)   (None, 112, 112, 64)      0         \n",
      "_________________________________________________________________\n",
      "block2_conv1 (Conv2D)        (None, 112, 112, 128)     73856     \n",
      "_________________________________________________________________\n",
      "block2_conv2 (Conv2D)        (None, 112, 112, 128)     147584    \n",
      "_________________________________________________________________\n",
      "block2_pool (MaxPooling2D)   (None, 56, 56, 128)       0         \n",
      "_________________________________________________________________\n",
      "block3_conv1 (Conv2D)        (None, 56, 56, 256)       295168    \n",
      "_________________________________________________________________\n",
      "block3_conv2 (Conv2D)        (None, 56, 56, 256)       590080    \n",
      "_________________________________________________________________\n",
      "block3_conv3 (Conv2D)        (None, 56, 56, 256)       590080    \n",
      "_________________________________________________________________\n",
      "block3_pool (MaxPooling2D)   (None, 28, 28, 256)       0         \n",
      "_________________________________________________________________\n",
      "block4_conv1 (Conv2D)        (None, 28, 28, 512)       1180160   \n",
      "_________________________________________________________________\n",
      "block4_conv2 (Conv2D)        (None, 28, 28, 512)       2359808   \n",
      "_________________________________________________________________\n",
      "block4_conv3 (Conv2D)        (None, 28, 28, 512)       2359808   \n",
      "_________________________________________________________________\n",
      "block4_pool (MaxPooling2D)   (None, 14, 14, 512)       0         \n",
      "_________________________________________________________________\n",
      "block5_conv1 (Conv2D)        (None, 14, 14, 512)       2359808   \n",
      "_________________________________________________________________\n",
      "block5_conv2 (Conv2D)        (None, 14, 14, 512)       2359808   \n",
      "_________________________________________________________________\n",
      "block5_conv3 (Conv2D)        (None, 14, 14, 512)       2359808   \n",
      "_________________________________________________________________\n",
      "block5_pool (MaxPooling2D)   (None, 7, 7, 512)         0         \n",
      "_________________________________________________________________\n",
      "flatten (Flatten)            (None, 25088)             0         \n",
      "_________________________________________________________________\n",
      "fc1 (Dense)                  (None, 4096)              102764544 \n",
      "_________________________________________________________________\n",
      "fc2 (Dense)                  (None, 4096)              16781312  \n",
      "_________________________________________________________________\n",
      "predictions (Dense)          (None, 1000)              4097000   \n",
      "=================================================================\n",
      "Total params: 138,357,544\n",
      "Trainable params: 138,357,544\n",
      "Non-trainable params: 0\n",
      "_________________________________________________________________\n"
     ]
    }
   ],
   "source": [
    "vgg16_model = keras.applications.vgg16.VGG16()\n",
    "vgg16_model.summary()"
   ]
  },
  {
   "cell_type": "code",
   "execution_count": 13,
   "metadata": {
    "scrolled": false
   },
   "outputs": [],
   "source": [
    "type(vgg16_model) #This is a Keras Functional API need to convert to sequential\n",
    "model = Sequential() #Iterate over the functional layers and add it as a stack\n",
    "for layer in vgg16_model.layers:\n",
    "    model.add(layer)"
   ]
  },
  {
   "cell_type": "code",
   "execution_count": 14,
   "metadata": {},
   "outputs": [
    {
     "name": "stdout",
     "output_type": "stream",
     "text": [
      "Model: \"sequential_1\"\n",
      "_________________________________________________________________\n",
      "Layer (type)                 Output Shape              Param #   \n",
      "=================================================================\n",
      "block1_conv1 (Conv2D)        (None, 224, 224, 64)      1792      \n",
      "_________________________________________________________________\n",
      "block1_conv2 (Conv2D)        (None, 224, 224, 64)      36928     \n",
      "_________________________________________________________________\n",
      "block1_pool (MaxPooling2D)   (None, 112, 112, 64)      0         \n",
      "_________________________________________________________________\n",
      "block2_conv1 (Conv2D)        (None, 112, 112, 128)     73856     \n",
      "_________________________________________________________________\n",
      "block2_conv2 (Conv2D)        (None, 112, 112, 128)     147584    \n",
      "_________________________________________________________________\n",
      "block2_pool (MaxPooling2D)   (None, 56, 56, 128)       0         \n",
      "_________________________________________________________________\n",
      "block3_conv1 (Conv2D)        (None, 56, 56, 256)       295168    \n",
      "_________________________________________________________________\n",
      "block3_conv2 (Conv2D)        (None, 56, 56, 256)       590080    \n",
      "_________________________________________________________________\n",
      "block3_conv3 (Conv2D)        (None, 56, 56, 256)       590080    \n",
      "_________________________________________________________________\n",
      "block3_pool (MaxPooling2D)   (None, 28, 28, 256)       0         \n",
      "_________________________________________________________________\n",
      "block4_conv1 (Conv2D)        (None, 28, 28, 512)       1180160   \n",
      "_________________________________________________________________\n",
      "block4_conv2 (Conv2D)        (None, 28, 28, 512)       2359808   \n",
      "_________________________________________________________________\n",
      "block4_conv3 (Conv2D)        (None, 28, 28, 512)       2359808   \n",
      "_________________________________________________________________\n",
      "block4_pool (MaxPooling2D)   (None, 14, 14, 512)       0         \n",
      "_________________________________________________________________\n",
      "block5_conv1 (Conv2D)        (None, 14, 14, 512)       2359808   \n",
      "_________________________________________________________________\n",
      "block5_conv2 (Conv2D)        (None, 14, 14, 512)       2359808   \n",
      "_________________________________________________________________\n",
      "block5_conv3 (Conv2D)        (None, 14, 14, 512)       2359808   \n",
      "_________________________________________________________________\n",
      "block5_pool (MaxPooling2D)   (None, 7, 7, 512)         0         \n",
      "_________________________________________________________________\n",
      "flatten (Flatten)            (None, 25088)             0         \n",
      "_________________________________________________________________\n",
      "fc1 (Dense)                  (None, 4096)              102764544 \n",
      "_________________________________________________________________\n",
      "fc2 (Dense)                  (None, 4096)              16781312  \n",
      "_________________________________________________________________\n",
      "predictions (Dense)          (None, 1000)              4097000   \n",
      "=================================================================\n",
      "Total params: 138,357,544\n",
      "Trainable params: 138,357,544\n",
      "Non-trainable params: 0\n",
      "_________________________________________________________________\n"
     ]
    }
   ],
   "source": [
    "model.layers.pop()\n",
    "model.summary()"
   ]
  },
  {
   "cell_type": "code",
   "execution_count": 15,
   "metadata": {},
   "outputs": [],
   "source": [
    "for layer in model.layers: #Since the model is already trained with certain weights, we dont want to change it. Let it be the same\n",
    "    layer.trainable = False"
   ]
  },
  {
   "cell_type": "code",
   "execution_count": 16,
   "metadata": {},
   "outputs": [
    {
     "name": "stdout",
     "output_type": "stream",
     "text": [
      "Model: \"sequential_1\"\n",
      "_________________________________________________________________\n",
      "Layer (type)                 Output Shape              Param #   \n",
      "=================================================================\n",
      "block1_conv1 (Conv2D)        (None, 224, 224, 64)      1792      \n",
      "_________________________________________________________________\n",
      "block1_conv2 (Conv2D)        (None, 224, 224, 64)      36928     \n",
      "_________________________________________________________________\n",
      "block1_pool (MaxPooling2D)   (None, 112, 112, 64)      0         \n",
      "_________________________________________________________________\n",
      "block2_conv1 (Conv2D)        (None, 112, 112, 128)     73856     \n",
      "_________________________________________________________________\n",
      "block2_conv2 (Conv2D)        (None, 112, 112, 128)     147584    \n",
      "_________________________________________________________________\n",
      "block2_pool (MaxPooling2D)   (None, 56, 56, 128)       0         \n",
      "_________________________________________________________________\n",
      "block3_conv1 (Conv2D)        (None, 56, 56, 256)       295168    \n",
      "_________________________________________________________________\n",
      "block3_conv2 (Conv2D)        (None, 56, 56, 256)       590080    \n",
      "_________________________________________________________________\n",
      "block3_conv3 (Conv2D)        (None, 56, 56, 256)       590080    \n",
      "_________________________________________________________________\n",
      "block3_pool (MaxPooling2D)   (None, 28, 28, 256)       0         \n",
      "_________________________________________________________________\n",
      "block4_conv1 (Conv2D)        (None, 28, 28, 512)       1180160   \n",
      "_________________________________________________________________\n",
      "block4_conv2 (Conv2D)        (None, 28, 28, 512)       2359808   \n",
      "_________________________________________________________________\n",
      "block4_conv3 (Conv2D)        (None, 28, 28, 512)       2359808   \n",
      "_________________________________________________________________\n",
      "block4_pool (MaxPooling2D)   (None, 14, 14, 512)       0         \n",
      "_________________________________________________________________\n",
      "block5_conv1 (Conv2D)        (None, 14, 14, 512)       2359808   \n",
      "_________________________________________________________________\n",
      "block5_conv2 (Conv2D)        (None, 14, 14, 512)       2359808   \n",
      "_________________________________________________________________\n",
      "block5_conv3 (Conv2D)        (None, 14, 14, 512)       2359808   \n",
      "_________________________________________________________________\n",
      "block5_pool (MaxPooling2D)   (None, 7, 7, 512)         0         \n",
      "_________________________________________________________________\n",
      "flatten (Flatten)            (None, 25088)             0         \n",
      "_________________________________________________________________\n",
      "fc1 (Dense)                  (None, 4096)              102764544 \n",
      "_________________________________________________________________\n",
      "fc2 (Dense)                  (None, 4096)              16781312  \n",
      "_________________________________________________________________\n",
      "predictions (Dense)          (None, 1000)              4097000   \n",
      "_________________________________________________________________\n",
      "dense_1 (Dense)              (None, 3)                 3003      \n",
      "=================================================================\n",
      "Total params: 138,360,547\n",
      "Trainable params: 3,003\n",
      "Non-trainable params: 138,357,544\n",
      "_________________________________________________________________\n"
     ]
    }
   ],
   "source": [
    "model.add(Dense(3, activation='sigmoid')) # Add the last layer\n",
    "model.summary()"
   ]
  },
  {
   "cell_type": "code",
   "execution_count": 17,
   "metadata": {},
   "outputs": [],
   "source": [
    "# Complie the model\n",
    "model.compile(Adam(lr=.00015), loss='categorical_crossentropy', metrics=['accuracy'])"
   ]
  },
  {
   "cell_type": "code",
   "execution_count": 18,
   "metadata": {},
   "outputs": [
    {
     "name": "stdout",
     "output_type": "stream",
     "text": [
      "Epoch 1/15\n"
     ]
    },
    {
     "name": "stderr",
     "output_type": "stream",
     "text": [
      "d:\\softwares\\python\\lib\\site-packages\\PIL\\Image.py:989: UserWarning: Palette images with Transparency expressed in bytes should be converted to RGBA images\n",
      "  \"Palette images with Transparency expressed in bytes should be \"\n"
     ]
    },
    {
     "name": "stdout",
     "output_type": "stream",
     "text": [
      "18/18 [==============================] - 35s 2s/step - loss: 1.0934 - accuracy: 0.4483 - val_loss: 1.0900 - val_accuracy: 0.6667\n",
      "Epoch 2/15\n",
      "18/18 [==============================] - 22s 1s/step - loss: 1.0925 - accuracy: 0.4823 - val_loss: 1.0895 - val_accuracy: 0.6667\n",
      "Epoch 3/15\n",
      "18/18 [==============================] - 22s 1s/step - loss: 1.0916 - accuracy: 0.5231 - val_loss: 1.0890 - val_accuracy: 0.6667\n",
      "Epoch 4/15\n",
      "18/18 [==============================] - 22s 1s/step - loss: 1.0907 - accuracy: 0.5687 - val_loss: 1.0884 - val_accuracy: 0.6667\n",
      "Epoch 5/15\n",
      "18/18 [==============================] - 22s 1s/step - loss: 1.0898 - accuracy: 0.6142 - val_loss: 1.0879 - val_accuracy: 0.6667\n",
      "Epoch 6/15\n",
      "18/18 [==============================] - 22s 1s/step - loss: 1.0890 - accuracy: 0.6366 - val_loss: 1.0874 - val_accuracy: 0.6667\n",
      "Epoch 7/15\n",
      "18/18 [==============================] - 22s 1s/step - loss: 1.0881 - accuracy: 0.6451 - val_loss: 1.0868 - val_accuracy: 0.6667\n",
      "Epoch 8/15\n",
      "18/18 [==============================] - 22s 1s/step - loss: 1.0872 - accuracy: 0.6836 - val_loss: 1.0863 - val_accuracy: 0.6667\n",
      "Epoch 9/15\n",
      "18/18 [==============================] - 22s 1s/step - loss: 1.0863 - accuracy: 0.6944 - val_loss: 1.0857 - val_accuracy: 0.6667\n",
      "Epoch 10/15\n",
      "18/18 [==============================] - 22s 1s/step - loss: 1.0853 - accuracy: 0.6983 - val_loss: 1.0851 - val_accuracy: 0.6667\n",
      "Epoch 11/15\n",
      "18/18 [==============================] - 22s 1s/step - loss: 1.0844 - accuracy: 0.7083 - val_loss: 1.0846 - val_accuracy: 0.6667\n",
      "Epoch 12/15\n",
      "18/18 [==============================] - 22s 1s/step - loss: 1.0835 - accuracy: 0.7083 - val_loss: 1.0840 - val_accuracy: 0.6667\n",
      "Epoch 13/15\n",
      "18/18 [==============================] - 22s 1s/step - loss: 1.0826 - accuracy: 0.7083 - val_loss: 1.0834 - val_accuracy: 0.6667\n",
      "Epoch 14/15\n",
      "18/18 [==============================] - 22s 1s/step - loss: 1.0817 - accuracy: 0.7091 - val_loss: 1.0828 - val_accuracy: 0.6667\n",
      "Epoch 15/15\n",
      "18/18 [==============================] - 22s 1s/step - loss: 1.0808 - accuracy: 0.7222 - val_loss: 1.0822 - val_accuracy: 0.6667\n"
     ]
    },
    {
     "data": {
      "text/plain": [
       "<keras.callbacks.callbacks.History at 0x1921352ffd0>"
      ]
     },
     "execution_count": 18,
     "metadata": {},
     "output_type": "execute_result"
    }
   ],
   "source": [
    "model.fit_generator(train_batches, steps_per_epoch = 18,\n",
    "                    validation_data=val_batches, epochs = 15)"
   ]
  },
  {
   "cell_type": "code",
   "execution_count": 19,
   "metadata": {},
   "outputs": [
    {
     "name": "stdout",
     "output_type": "stream",
     "text": [
      "['test_doc-external/00000046.jpg', 'test_doc-external/00000197.jpg', 'test_doc-external/aadhar copy 2.jpg']\n",
      "D:\\College\\BE Project\\test_doc-external\\00000046.jpg\n",
      "D:\\College\\BE Project\\test_doc-external\\00000197.jpg\n",
      "D:\\College\\BE Project\\test_doc-external\\aadhar copy 2.jpg\n"
     ]
    }
   ],
   "source": [
    "zip = zipfile.ZipFile(\"test_doc-external.zip\")\n",
    "paths = zip.namelist()\n",
    "del paths[0]\n",
    "print(paths)\n",
    "for path in paths:\n",
    "    print(zip.extract(path))\n",
    "zip.close()"
   ]
  },
  {
   "cell_type": "code",
   "execution_count": 20,
   "metadata": {},
   "outputs": [
    {
     "name": "stdout",
     "output_type": "stream",
     "text": [
      "<PIL.Image.Image image mode=RGB size=224x224 at 0x19212403898>\n",
      "<PIL.Image.Image image mode=RGB size=224x224 at 0x19212403898>\n",
      "<PIL.Image.Image image mode=RGB size=224x224 at 0x19212403898>\n"
     ]
    }
   ],
   "source": [
    "X_test=[]\n",
    "def convert_to_image(X):\n",
    "    '''Function to convert all Input Images to the STANDARD_SIZE and create Training Dataset\n",
    "    '''\n",
    "    for f in paths:\n",
    "        #fobj=get_file(f)\n",
    "        #print(type(fobj))predictions= model.predict(X_test)\n",
    "        if os.path.isdir(f):\n",
    "            continue\n",
    "        img= PIL.Image.open(f)\n",
    "        \n",
    "        img = img.resize(STANDARD_SIZE)\n",
    "        print(img)\n",
    "        img=np.array(img)\n",
    "        X.append(img)\n",
    "        #print(X_train)\n",
    "    #print(len(X_train))\n",
    "    return X\n",
    "X_test=np.array(convert_to_image(X_test))\n",
    "datagen.fit(X_test)"
   ]
  },
  {
   "cell_type": "code",
   "execution_count": 21,
   "metadata": {},
   "outputs": [
    {
     "data": {
      "text/plain": [
       "array([[0.50948554, 0.49298924, 0.46034196],\n",
       "       [0.4799884 , 0.50090444, 0.48431385],\n",
       "       [0.5105191 , 0.49314758, 0.4586537 ]], dtype=float32)"
      ]
     },
     "execution_count": 21,
     "metadata": {},
     "output_type": "execute_result"
    }
   ],
   "source": [
    "predictions= model.predict(X_test)\n",
    "predictions"
   ]
  },
  {
   "cell_type": "code",
   "execution_count": 25,
   "metadata": {},
   "outputs": [
    {
     "data": {
      "text/plain": [
       "[0, 1, 0]"
      ]
     },
     "execution_count": 25,
     "metadata": {},
     "output_type": "execute_result"
    }
   ],
   "source": [
    "y_pred=[]\n",
    "for i in range(len(predictions)):\n",
    "    y_pred.append(np.argmax(predictions[i]))\n",
    "y_pred\n",
    "# j = 0\n",
    "# for i in y_pred:\n",
    "#     print(paths[y_pred[j]-1])\n",
    "#     j = j + 1"
   ]
  },
  {
   "cell_type": "code",
   "execution_count": 29,
   "metadata": {},
   "outputs": [
    {
     "name": "stdout",
     "output_type": "stream",
     "text": [
      "Image classified as a form document:  test_doc-external/00000046.jpg\n",
      "Image classified as a form document:  test_doc-external/aadhar copy 2.jpg\n"
     ]
    }
   ],
   "source": [
    "index= classes_required.index('Aadhar')\n",
    "for i in range(len(y_pred)):\n",
    "    if y_pred[i] == index:\n",
    "        print(\"Image classified as a form document: \", paths[i])"
   ]
  },
  {
   "cell_type": "code",
   "execution_count": 30,
   "metadata": {},
   "outputs": [
    {
     "name": "stdout",
     "output_type": "stream",
     "text": [
      "Image classified as a form document:  test_doc-external/00000197.jpg\n"
     ]
    }
   ],
   "source": [
    "index= classes_required.index('Insurance')\n",
    "for i in range(len(y_pred)):\n",
    "    if y_pred[i] == index:\n",
    "        print(\"Image classified as a form document: \", paths[i])"
   ]
  }
 ],
 "metadata": {
  "kernelspec": {
   "display_name": "Python 3",
   "language": "python",
   "name": "python3"
  },
  "language_info": {
   "codemirror_mode": {
    "name": "ipython",
    "version": 3
   },
   "file_extension": ".py",
   "mimetype": "text/x-python",
   "name": "python",
   "nbconvert_exporter": "python",
   "pygments_lexer": "ipython3",
   "version": "3.6.8"
  }
 },
 "nbformat": 4,
 "nbformat_minor": 2
}
